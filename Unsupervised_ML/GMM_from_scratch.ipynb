{
 "cells": [
  {
   "cell_type": "markdown",
   "metadata": {},
   "source": [
    "# Importing our Libraries"
   ]
  },
  {
   "cell_type": "code",
   "execution_count": 12,
   "metadata": {},
   "outputs": [],
   "source": [
    "import numpy as np\n",
    "import pandas as pd\n",
    "\n",
    "import matplotlib.pyplot as plt\n",
    "import seaborn as sns\n",
    "from sklearn.mixture import GaussianMixture\n",
    "from sklearn.preprocessing import StandardScaler\n",
    "from scipy.stats import multivariate_normal\n",
    "from sklearn.datasets import make_blobs"
   ]
  },
  {
   "cell_type": "markdown",
   "metadata": {},
   "source": [
    "# Reading the data and checking it"
   ]
  },
  {
   "cell_type": "code",
   "execution_count": 13,
   "metadata": {},
   "outputs": [
    {
     "data": {
      "application/vnd.microsoft.datawrangler.viewer.v0+json": {
       "columns": [
        {
         "name": "index",
         "rawType": "int64",
         "type": "integer"
        },
        {
         "name": "Weight",
         "rawType": "float64",
         "type": "float"
        },
        {
         "name": "Height",
         "rawType": "float64",
         "type": "float"
        }
       ],
       "conversionMethod": "pd.DataFrame",
       "ref": "4c93c864-70eb-480a-90ab-8a73843d04a9",
       "rows": [
        [
         "0",
         "67.06292382432797",
         "176.08635470037433"
        ],
        [
         "1",
         "68.80409404055906",
         "178.38866853397775"
        ],
        [
         "2",
         "60.93086316752808",
         "170.28449576512674"
        ],
        [
         "3",
         "59.73384301263917",
         "168.69199180312273"
        ],
        [
         "4",
         "65.43123003070372",
         "173.7636790317747"
        ],
        [
         "5",
         "61.57716033254962",
         "168.0917512363048"
        ],
        [
         "6",
         "63.34186626427547",
         "170.64251602924492"
        ],
        [
         "7",
         "61.04164336121978",
         "170.09668165680276"
        ],
        [
         "8",
         "62.63362334719166",
         "171.8629715737515"
        ],
        [
         "9",
         "53.4078596166848",
         "162.756843114429"
        ],
        [
         "10",
         "62.93820030525223",
         "168.71007855359954"
        ],
        [
         "11",
         "68.55485709616576",
         "176.4737467967919"
        ],
        [
         "12",
         "65.16304259531378",
         "171.17658203536783"
        ],
        [
         "13",
         "53.44601710597588",
         "162.91516701320765"
        ],
        [
         "14",
         "60.65937348586088",
         "170.6476590778724"
        ],
        [
         "15",
         "59.1765543543734",
         "169.19080975295822"
        ],
        [
         "16",
         "67.16384091157683",
         "176.33706853049466"
        ],
        [
         "17",
         "60.62703390449537",
         "169.8481191146251"
        ],
        [
         "18",
         "53.96476394988538",
         "162.49055420493335"
        ],
        [
         "19",
         "60.35999202109157",
         "169.89078752485602"
        ],
        [
         "20",
         "59.856871023856",
         "168.85468537336587"
        ],
        [
         "21",
         "68.02783467584325",
         "177.07516059627648"
        ],
        [
         "22",
         "64.5916004593126",
         "170.0628382745213"
        ],
        [
         "23",
         "53.55139340605489",
         "162.25694858653677"
        ],
        [
         "24",
         "60.44702902335528",
         "170.00817841842982"
        ],
        [
         "25",
         "54.83092473050485",
         "163.76973667420708"
        ],
        [
         "26",
         "69.30872116335155",
         "177.1115849256339"
        ],
        [
         "27",
         "62.73255209100623",
         "169.10528593090274"
        ],
        [
         "28",
         "54.18683143331165",
         "164.03403131402146"
        ],
        [
         "29",
         "62.62977223054439",
         "167.66272215140384"
        ],
        [
         "30",
         "64.4420149294644",
         "169.69123425650596"
        ],
        [
         "31",
         "64.51477256770788",
         "169.34934976116304"
        ],
        [
         "32",
         "68.86502846321999",
         "177.4894683600019"
        ],
        [
         "33",
         "63.88109246801314",
         "170.4171574632091"
        ],
        [
         "34",
         "62.47848648578737",
         "169.0076636422035"
        ],
        [
         "35",
         "70.69177380966977",
         "178.89477040592664"
        ],
        [
         "36",
         "53.55726808997389",
         "162.19776822270825"
        ],
        [
         "37",
         "62.28600867963472",
         "170.774429580703"
        ],
        [
         "38",
         "54.01520330578971",
         "162.03712437192883"
        ],
        [
         "39",
         "68.01439661467153",
         "176.8179609710763"
        ],
        [
         "40",
         "52.06898887867419",
         "160.86332118584968"
        ],
        [
         "41",
         "62.38717375383146",
         "172.45294212177052"
        ],
        [
         "42",
         "59.354863548960864",
         "168.57199984646647"
        ],
        [
         "43",
         "68.5427384453777",
         "177.5961376906921"
        ],
        [
         "44",
         "64.38072382169786",
         "169.83116828245832"
        ],
        [
         "45",
         "67.62212013987352",
         "176.6676185763627"
        ],
        [
         "46",
         "62.615403940641535",
         "171.84082283243566"
        ],
        [
         "47",
         "60.98457786969972",
         "170.6496322222904"
        ],
        [
         "48",
         "67.79216222950862",
         "175.61511830058043"
        ],
        [
         "49",
         "68.09973959511291",
         "176.25440699329175"
        ]
       ],
       "shape": {
        "columns": 2,
        "rows": 500
       }
      },
      "text/html": [
       "<div>\n",
       "<style scoped>\n",
       "    .dataframe tbody tr th:only-of-type {\n",
       "        vertical-align: middle;\n",
       "    }\n",
       "\n",
       "    .dataframe tbody tr th {\n",
       "        vertical-align: top;\n",
       "    }\n",
       "\n",
       "    .dataframe thead th {\n",
       "        text-align: right;\n",
       "    }\n",
       "</style>\n",
       "<table border=\"1\" class=\"dataframe\">\n",
       "  <thead>\n",
       "    <tr style=\"text-align: right;\">\n",
       "      <th></th>\n",
       "      <th>Weight</th>\n",
       "      <th>Height</th>\n",
       "    </tr>\n",
       "  </thead>\n",
       "  <tbody>\n",
       "    <tr>\n",
       "      <th>0</th>\n",
       "      <td>67.062924</td>\n",
       "      <td>176.086355</td>\n",
       "    </tr>\n",
       "    <tr>\n",
       "      <th>1</th>\n",
       "      <td>68.804094</td>\n",
       "      <td>178.388669</td>\n",
       "    </tr>\n",
       "    <tr>\n",
       "      <th>2</th>\n",
       "      <td>60.930863</td>\n",
       "      <td>170.284496</td>\n",
       "    </tr>\n",
       "    <tr>\n",
       "      <th>3</th>\n",
       "      <td>59.733843</td>\n",
       "      <td>168.691992</td>\n",
       "    </tr>\n",
       "    <tr>\n",
       "      <th>4</th>\n",
       "      <td>65.431230</td>\n",
       "      <td>173.763679</td>\n",
       "    </tr>\n",
       "    <tr>\n",
       "      <th>...</th>\n",
       "      <td>...</td>\n",
       "      <td>...</td>\n",
       "    </tr>\n",
       "    <tr>\n",
       "      <th>495</th>\n",
       "      <td>59.976983</td>\n",
       "      <td>169.679741</td>\n",
       "    </tr>\n",
       "    <tr>\n",
       "      <th>496</th>\n",
       "      <td>66.423814</td>\n",
       "      <td>174.625574</td>\n",
       "    </tr>\n",
       "    <tr>\n",
       "      <th>497</th>\n",
       "      <td>53.604698</td>\n",
       "      <td>161.919208</td>\n",
       "    </tr>\n",
       "    <tr>\n",
       "      <th>498</th>\n",
       "      <td>50.433644</td>\n",
       "      <td>160.794875</td>\n",
       "    </tr>\n",
       "    <tr>\n",
       "      <th>499</th>\n",
       "      <td>60.224392</td>\n",
       "      <td>169.689709</td>\n",
       "    </tr>\n",
       "  </tbody>\n",
       "</table>\n",
       "<p>500 rows × 2 columns</p>\n",
       "</div>"
      ],
      "text/plain": [
       "        Weight      Height\n",
       "0    67.062924  176.086355\n",
       "1    68.804094  178.388669\n",
       "2    60.930863  170.284496\n",
       "3    59.733843  168.691992\n",
       "4    65.431230  173.763679\n",
       "..         ...         ...\n",
       "495  59.976983  169.679741\n",
       "496  66.423814  174.625574\n",
       "497  53.604698  161.919208\n",
       "498  50.433644  160.794875\n",
       "499  60.224392  169.689709\n",
       "\n",
       "[500 rows x 2 columns]"
      ]
     },
     "execution_count": 13,
     "metadata": {},
     "output_type": "execute_result"
    }
   ],
   "source": [
    "df = pd.read_csv(\"Clustering_gmm (2).csv\")\n",
    "df"
   ]
  },
  {
   "cell_type": "code",
   "execution_count": 14,
   "metadata": {},
   "outputs": [
    {
     "data": {
      "text/plain": [
       "(500, 2)"
      ]
     },
     "execution_count": 14,
     "metadata": {},
     "output_type": "execute_result"
    }
   ],
   "source": [
    "df.shape"
   ]
  },
  {
   "cell_type": "code",
   "execution_count": 15,
   "metadata": {},
   "outputs": [
    {
     "name": "stdout",
     "output_type": "stream",
     "text": [
      "<class 'pandas.core.frame.DataFrame'>\n",
      "RangeIndex: 500 entries, 0 to 499\n",
      "Data columns (total 2 columns):\n",
      " #   Column  Non-Null Count  Dtype  \n",
      "---  ------  --------------  -----  \n",
      " 0   Weight  500 non-null    float64\n",
      " 1   Height  500 non-null    float64\n",
      "dtypes: float64(2)\n",
      "memory usage: 7.9 KB\n"
     ]
    }
   ],
   "source": [
    "df.info()"
   ]
  },
  {
   "cell_type": "code",
   "execution_count": 16,
   "metadata": {},
   "outputs": [
    {
     "data": {
      "text/plain": [
       "Weight    0\n",
       "Height    0\n",
       "dtype: int64"
      ]
     },
     "execution_count": 16,
     "metadata": {},
     "output_type": "execute_result"
    }
   ],
   "source": [
    "df.isnull().sum()"
   ]
  },
  {
   "cell_type": "markdown",
   "metadata": {},
   "source": [
    "# `Scatter` plot between the Weights and the Heights"
   ]
  },
  {
   "cell_type": "code",
   "execution_count": 17,
   "metadata": {},
   "outputs": [
    {
     "data": {
      "image/png": "[encoded data removed]",
      "text/plain": [
       "<Figure size 640x480 with 1 Axes>"
      ]
     },
     "metadata": {},
     "output_type": "display_data"
    }
   ],
   "source": [
    "plt.scatter(df['Weight'], df['Height'])\n",
    "plt.xlabel('Weight')\n",
    "plt.ylabel('Height')\n",
    "plt.grid()"
   ]
  },
  {
   "cell_type": "markdown",
   "metadata": {},
   "source": [
    "# `Histogram` with the Weight and Height counts "
   ]
  },
  {
   "cell_type": "code",
   "execution_count": 18,
   "metadata": {},
   "outputs": [
    {
     "data": {
      "text/plain": [
       "array([[<Axes: title={'center': 'Weight'}>,\n",
       "        <Axes: title={'center': 'Height'}>]], dtype=object)"
      ]
     },
     "execution_count": 18,
     "metadata": {},
     "output_type": "execute_result"
    },
    {
     "data": {
      "image/png": "[encoded data removed]",
      "text/plain": [
       "<Figure size 640x480 with 2 Axes>"
      ]
     },
     "metadata": {},
     "output_type": "display_data"
    }
   ],
   "source": [
    "df.hist()"
   ]
  },
  {
   "cell_type": "markdown",
   "metadata": {},
   "source": [
    "# Scaling the data "
   ]
  },
  {
   "cell_type": "code",
   "execution_count": 19,
   "metadata": {},
   "outputs": [
    {
     "data": {
      "application/vnd.microsoft.datawrangler.viewer.v0+json": {
       "columns": [
        {
         "name": "index",
         "rawType": "int64",
         "type": "integer"
        },
        {
         "name": "Weight",
         "rawType": "float64",
         "type": "float"
        },
        {
         "name": "Height",
         "rawType": "float64",
         "type": "float"
        }
       ],
       "conversionMethod": "pd.DataFrame",
       "ref": "f533abc5-0674-4a22-aa71-ecde3f821d38",
       "rows": [
        [
         "0",
         "67.06292382432797",
         "176.08635470037433"
        ],
        [
         "1",
         "68.80409404055906",
         "178.38866853397775"
        ],
        [
         "2",
         "60.93086316752808",
         "170.28449576512674"
        ],
        [
         "3",
         "59.73384301263917",
         "168.69199180312273"
        ],
        [
         "4",
         "65.43123003070372",
         "173.7636790317747"
        ],
        [
         "5",
         "61.57716033254962",
         "168.0917512363048"
        ],
        [
         "6",
         "63.34186626427547",
         "170.64251602924492"
        ],
        [
         "7",
         "61.04164336121978",
         "170.09668165680276"
        ],
        [
         "8",
         "62.63362334719166",
         "171.8629715737515"
        ],
        [
         "9",
         "53.4078596166848",
         "162.756843114429"
        ],
        [
         "10",
         "62.93820030525223",
         "168.71007855359954"
        ],
        [
         "11",
         "68.55485709616576",
         "176.4737467967919"
        ],
        [
         "12",
         "65.16304259531378",
         "171.17658203536783"
        ],
        [
         "13",
         "53.44601710597588",
         "162.91516701320765"
        ],
        [
         "14",
         "60.65937348586088",
         "170.6476590778724"
        ],
        [
         "15",
         "59.1765543543734",
         "169.19080975295822"
        ],
        [
         "16",
         "67.16384091157683",
         "176.33706853049466"
        ],
        [
         "17",
         "60.62703390449537",
         "169.8481191146251"
        ],
        [
         "18",
         "53.96476394988538",
         "162.49055420493335"
        ],
        [
         "19",
         "60.35999202109157",
         "169.89078752485602"
        ],
        [
         "20",
         "59.856871023856",
         "168.85468537336587"
        ],
        [
         "21",
         "68.02783467584325",
         "177.07516059627648"
        ],
        [
         "22",
         "64.5916004593126",
         "170.0628382745213"
        ],
        [
         "23",
         "53.55139340605489",
         "162.25694858653677"
        ],
        [
         "24",
         "60.44702902335528",
         "170.00817841842982"
        ],
        [
         "25",
         "54.83092473050485",
         "163.76973667420708"
        ],
        [
         "26",
         "69.30872116335155",
         "177.1115849256339"
        ],
        [
         "27",
         "62.73255209100623",
         "169.10528593090274"
        ],
        [
         "28",
         "54.18683143331165",
         "164.03403131402146"
        ],
        [
         "29",
         "62.62977223054439",
         "167.66272215140384"
        ],
        [
         "30",
         "64.4420149294644",
         "169.69123425650596"
        ],
        [
         "31",
         "64.51477256770788",
         "169.34934976116304"
        ],
        [
         "32",
         "68.86502846321999",
         "177.4894683600019"
        ],
        [
         "33",
         "63.88109246801314",
         "170.4171574632091"
        ],
        [
         "34",
         "62.47848648578737",
         "169.0076636422035"
        ],
        [
         "35",
         "70.69177380966977",
         "178.89477040592664"
        ],
        [
         "36",
         "53.55726808997389",
         "162.19776822270825"
        ],
        [
         "37",
         "62.28600867963472",
         "170.774429580703"
        ],
        [
         "38",
         "54.01520330578971",
         "162.03712437192883"
        ],
        [
         "39",
         "68.01439661467153",
         "176.8179609710763"
        ],
        [
         "40",
         "52.06898887867419",
         "160.86332118584968"
        ],
        [
         "41",
         "62.38717375383146",
         "172.45294212177052"
        ],
        [
         "42",
         "59.354863548960864",
         "168.57199984646647"
        ],
        [
         "43",
         "68.5427384453777",
         "177.5961376906921"
        ],
        [
         "44",
         "64.38072382169786",
         "169.83116828245832"
        ],
        [
         "45",
         "67.62212013987352",
         "176.6676185763627"
        ],
        [
         "46",
         "62.615403940641535",
         "171.84082283243566"
        ],
        [
         "47",
         "60.98457786969972",
         "170.6496322222904"
        ],
        [
         "48",
         "67.79216222950862",
         "175.61511830058043"
        ],
        [
         "49",
         "68.09973959511291",
         "176.25440699329175"
        ]
       ],
       "shape": {
        "columns": 2,
        "rows": 500
       }
      },
      "text/html": [
       "<div>\n",
       "<style scoped>\n",
       "    .dataframe tbody tr th:only-of-type {\n",
       "        vertical-align: middle;\n",
       "    }\n",
       "\n",
       "    .dataframe tbody tr th {\n",
       "        vertical-align: top;\n",
       "    }\n",
       "\n",
       "    .dataframe thead th {\n",
       "        text-align: right;\n",
       "    }\n",
       "</style>\n",
       "<table border=\"1\" class=\"dataframe\">\n",
       "  <thead>\n",
       "    <tr style=\"text-align: right;\">\n",
       "      <th></th>\n",
       "      <th>Weight</th>\n",
       "      <th>Height</th>\n",
       "    </tr>\n",
       "  </thead>\n",
       "  <tbody>\n",
       "    <tr>\n",
       "      <th>0</th>\n",
       "      <td>67.062924</td>\n",
       "      <td>176.086355</td>\n",
       "    </tr>\n",
       "    <tr>\n",
       "      <th>1</th>\n",
       "      <td>68.804094</td>\n",
       "      <td>178.388669</td>\n",
       "    </tr>\n",
       "    <tr>\n",
       "      <th>2</th>\n",
       "      <td>60.930863</td>\n",
       "      <td>170.284496</td>\n",
       "    </tr>\n",
       "    <tr>\n",
       "      <th>3</th>\n",
       "      <td>59.733843</td>\n",
       "      <td>168.691992</td>\n",
       "    </tr>\n",
       "    <tr>\n",
       "      <th>4</th>\n",
       "      <td>65.431230</td>\n",
       "      <td>173.763679</td>\n",
       "    </tr>\n",
       "    <tr>\n",
       "      <th>...</th>\n",
       "      <td>...</td>\n",
       "      <td>...</td>\n",
       "    </tr>\n",
       "    <tr>\n",
       "      <th>495</th>\n",
       "      <td>59.976983</td>\n",
       "      <td>169.679741</td>\n",
       "    </tr>\n",
       "    <tr>\n",
       "      <th>496</th>\n",
       "      <td>66.423814</td>\n",
       "      <td>174.625574</td>\n",
       "    </tr>\n",
       "    <tr>\n",
       "      <th>497</th>\n",
       "      <td>53.604698</td>\n",
       "      <td>161.919208</td>\n",
       "    </tr>\n",
       "    <tr>\n",
       "      <th>498</th>\n",
       "      <td>50.433644</td>\n",
       "      <td>160.794875</td>\n",
       "    </tr>\n",
       "    <tr>\n",
       "      <th>499</th>\n",
       "      <td>60.224392</td>\n",
       "      <td>169.689709</td>\n",
       "    </tr>\n",
       "  </tbody>\n",
       "</table>\n",
       "<p>500 rows × 2 columns</p>\n",
       "</div>"
      ],
      "text/plain": [
       "        Weight      Height\n",
       "0    67.062924  176.086355\n",
       "1    68.804094  178.388669\n",
       "2    60.930863  170.284496\n",
       "3    59.733843  168.691992\n",
       "4    65.431230  173.763679\n",
       "..         ...         ...\n",
       "495  59.976983  169.679741\n",
       "496  66.423814  174.625574\n",
       "497  53.604698  161.919208\n",
       "498  50.433644  160.794875\n",
       "499  60.224392  169.689709\n",
       "\n",
       "[500 rows x 2 columns]"
      ]
     },
     "execution_count": 19,
     "metadata": {},
     "output_type": "execute_result"
    }
   ],
   "source": [
    "ss = StandardScaler()\n",
    "df1 = ss.fit_transform(df)\n",
    "df1 = pd.DataFrame(df1, columns=df.columns)\n",
    "df"
   ]
  },
  {
   "cell_type": "markdown",
   "metadata": {},
   "source": [
    "# GMM from scratch"
   ]
  },
  {
   "cell_type": "code",
   "execution_count": 20,
   "metadata": {},
   "outputs": [],
   "source": [
    "def gmm(df, n_clusters, n_iterations=200):\n",
    "    n_samples, n_features = df.shape  \n",
    "    means = df.iloc[np.random.choice(n_samples, n_clusters, replace=False)]\n",
    "    covariances = [np.eye(n_features) for _ in range(n_clusters)]\n",
    "    weights = np.ones(n_clusters) / n_clusters\n",
    "    \n",
    "    for i in range(n_iterations):\n",
    "        # E-step\n",
    "        responsibilities = []\n",
    "        for j in range(n_clusters):\n",
    "            numerator = multivariate_normal.pdf(df, mean=means.iloc[j], cov=covariances[j]) * weights[j]\n",
    "            responsibilities.append(numerator)\n",
    "        responsibilities = np.array(responsibilities).T\n",
    "        responsibilities /= responsibilities.sum(axis=1, keepdims=True)\n",
    "\n",
    "        # M-step\n",
    "        total_resp = np.sum(responsibilities, axis=0)\n",
    "        weights = total_resp / n_samples\n",
    "        means = (responsibilities.T @ df) / total_resp[:, np.newaxis]\n",
    "        \n",
    "        for j in range(n_clusters):\n",
    "            diff = df - means.iloc[j]\n",
    "            covariances[j] = ((responsibilities[:,j] * diff.T) @ diff) / total_resp[j]\n",
    "            \n",
    "    return means, covariances, weights\n",
    "\n",
    "\n",
    "\n",
    "\n",
    "estimated_means, estimated_covariances, estimated_weights = gmm(df1, 4)"
   ]
  },
  {
   "cell_type": "code",
   "execution_count": 21,
   "metadata": {},
   "outputs": [
    {
     "data": {
      "image/png": "[encoded data removed]",
      "text/plain": [
       "<Figure size 640x480 with 1 Axes>"
      ]
     },
     "metadata": {},
     "output_type": "display_data"
    }
   ],
   "source": [
    "def assign_clusters(df1, means, covariances, weights):\n",
    "    n_samples = df1.shape[0]\n",
    "    n_clusters = len(means)\n",
    "    responsibilities = np.zeros((n_samples, n_clusters))\n",
    "    for k in range(n_clusters):\n",
    "        responsibilities[:, k] = multivariate_normal.pdf(df1, mean=means.iloc[k], cov=covariances[k]) * weights[k]\n",
    "    cluster_assignments = np.argmax(responsibilities, axis=1)\n",
    "    return cluster_assignments\n",
    "\n",
    "predicted_assignments = assign_clusters(df1, estimated_means, estimated_covariances, estimated_weights)\n",
    "\n",
    "plt.scatter(df1['Weight'], df1['Height'], c=predicted_assignments, cmap='coolwarm')\n",
    "plt.scatter(estimated_means['Weight'], estimated_means['Height'], marker='x', s=100, color='red', label='Centroids')\n",
    "plt.legend()\n",
    "plt.title(f'GMM Clustering from Scratch with {len(estimated_means)} Clusters')\n",
    "plt.show()"
   ]
  }
 ],
 "metadata": {
  "kernelspec": {
   "display_name": "Python 3",
   "language": "python",
   "name": "python3"
  },
  "language_info": {
   "codemirror_mode": {
    "name": "ipython",
    "version": 3
   },
   "file_extension": ".py",
   "mimetype": "text/x-python",
   "name": "python",
   "nbconvert_exporter": "python",
   "pygments_lexer": "ipython3",
   "version": "3.11.9"
  }
 },
 "nbformat": 4,
 "nbformat_minor": 2
}

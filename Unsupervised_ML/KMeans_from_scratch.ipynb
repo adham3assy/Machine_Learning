{
 "cells": [
  {
   "cell_type": "markdown",
   "metadata": {},
   "source": [
    "# Importing our Libraries"
   ]
  },
  {
   "cell_type": "code",
   "execution_count": 73,
   "metadata": {},
   "outputs": [],
   "source": [
    "import pandas as pd \n",
    "import numpy as np \n",
    "import matplotlib.pyplot as plt \n",
    "import seaborn as sns\n",
    "%matplotlib inline\n",
    "\n"
   ]
  },
  {
   "cell_type": "markdown",
   "metadata": {},
   "source": [
    "# Reading the data and checking it"
   ]
  },
  {
   "cell_type": "code",
   "execution_count": 74,
   "metadata": {},
   "outputs": [
    {
     "data": {
      "application/vnd.microsoft.datawrangler.viewer.v0+json": {
       "columns": [
        {
         "name": "index",
         "rawType": "int64",
         "type": "integer"
        },
        {
         "name": "Weight",
         "rawType": "float64",
         "type": "float"
        },
        {
         "name": "Height",
         "rawType": "float64",
         "type": "float"
        }
       ],
       "conversionMethod": "pd.DataFrame",
       "ref": "e9cd1c10-c4b1-4d7f-84e9-759201770ee2",
       "rows": [
        [
         "0",
         "67.06292382432797",
         "176.08635470037433"
        ],
        [
         "1",
         "68.80409404055906",
         "178.38866853397775"
        ],
        [
         "2",
         "60.93086316752808",
         "170.28449576512674"
        ],
        [
         "3",
         "59.73384301263917",
         "168.69199180312273"
        ],
        [
         "4",
         "65.43123003070372",
         "173.7636790317747"
        ],
        [
         "5",
         "61.57716033254962",
         "168.0917512363048"
        ],
        [
         "6",
         "63.34186626427547",
         "170.64251602924492"
        ],
        [
         "7",
         "61.04164336121978",
         "170.09668165680276"
        ],
        [
         "8",
         "62.63362334719166",
         "171.8629715737515"
        ],
        [
         "9",
         "53.4078596166848",
         "162.756843114429"
        ],
        [
         "10",
         "62.93820030525223",
         "168.71007855359954"
        ],
        [
         "11",
         "68.55485709616576",
         "176.4737467967919"
        ],
        [
         "12",
         "65.16304259531378",
         "171.17658203536783"
        ],
        [
         "13",
         "53.44601710597588",
         "162.91516701320765"
        ],
        [
         "14",
         "60.65937348586088",
         "170.6476590778724"
        ],
        [
         "15",
         "59.1765543543734",
         "169.19080975295822"
        ],
        [
         "16",
         "67.16384091157683",
         "176.33706853049466"
        ],
        [
         "17",
         "60.62703390449537",
         "169.8481191146251"
        ],
        [
         "18",
         "53.96476394988538",
         "162.49055420493335"
        ],
        [
         "19",
         "60.35999202109157",
         "169.89078752485602"
        ],
        [
         "20",
         "59.856871023856",
         "168.85468537336587"
        ],
        [
         "21",
         "68.02783467584325",
         "177.07516059627648"
        ],
        [
         "22",
         "64.5916004593126",
         "170.0628382745213"
        ],
        [
         "23",
         "53.55139340605489",
         "162.25694858653677"
        ],
        [
         "24",
         "60.44702902335528",
         "170.00817841842982"
        ],
        [
         "25",
         "54.83092473050485",
         "163.76973667420708"
        ],
        [
         "26",
         "69.30872116335155",
         "177.1115849256339"
        ],
        [
         "27",
         "62.73255209100623",
         "169.10528593090274"
        ],
        [
         "28",
         "54.18683143331165",
         "164.03403131402146"
        ],
        [
         "29",
         "62.62977223054439",
         "167.66272215140384"
        ],
        [
         "30",
         "64.4420149294644",
         "169.69123425650596"
        ],
        [
         "31",
         "64.51477256770788",
         "169.34934976116304"
        ],
        [
         "32",
         "68.86502846321999",
         "177.4894683600019"
        ],
        [
         "33",
         "63.88109246801314",
         "170.4171574632091"
        ],
        [
         "34",
         "62.47848648578737",
         "169.0076636422035"
        ],
        [
         "35",
         "70.69177380966977",
         "178.89477040592664"
        ],
        [
         "36",
         "53.55726808997389",
         "162.19776822270825"
        ],
        [
         "37",
         "62.28600867963472",
         "170.774429580703"
        ],
        [
         "38",
         "54.01520330578971",
         "162.03712437192883"
        ],
        [
         "39",
         "68.01439661467153",
         "176.8179609710763"
        ],
        [
         "40",
         "52.06898887867419",
         "160.86332118584968"
        ],
        [
         "41",
         "62.38717375383146",
         "172.45294212177052"
        ],
        [
         "42",
         "59.354863548960864",
         "168.57199984646647"
        ],
        [
         "43",
         "68.5427384453777",
         "177.5961376906921"
        ],
        [
         "44",
         "64.38072382169786",
         "169.83116828245832"
        ],
        [
         "45",
         "67.62212013987352",
         "176.6676185763627"
        ],
        [
         "46",
         "62.615403940641535",
         "171.84082283243566"
        ],
        [
         "47",
         "60.98457786969972",
         "170.6496322222904"
        ],
        [
         "48",
         "67.79216222950862",
         "175.61511830058043"
        ],
        [
         "49",
         "68.09973959511291",
         "176.25440699329175"
        ]
       ],
       "shape": {
        "columns": 2,
        "rows": 500
       }
      },
      "text/html": [
       "<div>\n",
       "<style scoped>\n",
       "    .dataframe tbody tr th:only-of-type {\n",
       "        vertical-align: middle;\n",
       "    }\n",
       "\n",
       "    .dataframe tbody tr th {\n",
       "        vertical-align: top;\n",
       "    }\n",
       "\n",
       "    .dataframe thead th {\n",
       "        text-align: right;\n",
       "    }\n",
       "</style>\n",
       "<table border=\"1\" class=\"dataframe\">\n",
       "  <thead>\n",
       "    <tr style=\"text-align: right;\">\n",
       "      <th></th>\n",
       "      <th>Weight</th>\n",
       "      <th>Height</th>\n",
       "    </tr>\n",
       "  </thead>\n",
       "  <tbody>\n",
       "    <tr>\n",
       "      <th>0</th>\n",
       "      <td>67.062924</td>\n",
       "      <td>176.086355</td>\n",
       "    </tr>\n",
       "    <tr>\n",
       "      <th>1</th>\n",
       "      <td>68.804094</td>\n",
       "      <td>178.388669</td>\n",
       "    </tr>\n",
       "    <tr>\n",
       "      <th>2</th>\n",
       "      <td>60.930863</td>\n",
       "      <td>170.284496</td>\n",
       "    </tr>\n",
       "    <tr>\n",
       "      <th>3</th>\n",
       "      <td>59.733843</td>\n",
       "      <td>168.691992</td>\n",
       "    </tr>\n",
       "    <tr>\n",
       "      <th>4</th>\n",
       "      <td>65.431230</td>\n",
       "      <td>173.763679</td>\n",
       "    </tr>\n",
       "    <tr>\n",
       "      <th>...</th>\n",
       "      <td>...</td>\n",
       "      <td>...</td>\n",
       "    </tr>\n",
       "    <tr>\n",
       "      <th>495</th>\n",
       "      <td>59.976983</td>\n",
       "      <td>169.679741</td>\n",
       "    </tr>\n",
       "    <tr>\n",
       "      <th>496</th>\n",
       "      <td>66.423814</td>\n",
       "      <td>174.625574</td>\n",
       "    </tr>\n",
       "    <tr>\n",
       "      <th>497</th>\n",
       "      <td>53.604698</td>\n",
       "      <td>161.919208</td>\n",
       "    </tr>\n",
       "    <tr>\n",
       "      <th>498</th>\n",
       "      <td>50.433644</td>\n",
       "      <td>160.794875</td>\n",
       "    </tr>\n",
       "    <tr>\n",
       "      <th>499</th>\n",
       "      <td>60.224392</td>\n",
       "      <td>169.689709</td>\n",
       "    </tr>\n",
       "  </tbody>\n",
       "</table>\n",
       "<p>500 rows × 2 columns</p>\n",
       "</div>"
      ],
      "text/plain": [
       "        Weight      Height\n",
       "0    67.062924  176.086355\n",
       "1    68.804094  178.388669\n",
       "2    60.930863  170.284496\n",
       "3    59.733843  168.691992\n",
       "4    65.431230  173.763679\n",
       "..         ...         ...\n",
       "495  59.976983  169.679741\n",
       "496  66.423814  174.625574\n",
       "497  53.604698  161.919208\n",
       "498  50.433644  160.794875\n",
       "499  60.224392  169.689709\n",
       "\n",
       "[500 rows x 2 columns]"
      ]
     },
     "execution_count": 74,
     "metadata": {},
     "output_type": "execute_result"
    }
   ],
   "source": [
    "df = pd.read_csv(\"Clustering_kmeans (2).csv\")\n",
    "df"
   ]
  },
  {
   "cell_type": "code",
   "execution_count": 75,
   "metadata": {},
   "outputs": [
    {
     "data": {
      "text/plain": [
       "(500, 2)"
      ]
     },
     "execution_count": 75,
     "metadata": {},
     "output_type": "execute_result"
    }
   ],
   "source": [
    "df.shape"
   ]
  },
  {
   "cell_type": "code",
   "execution_count": 76,
   "metadata": {},
   "outputs": [
    {
     "name": "stdout",
     "output_type": "stream",
     "text": [
      "<class 'pandas.core.frame.DataFrame'>\n",
      "RangeIndex: 500 entries, 0 to 499\n",
      "Data columns (total 2 columns):\n",
      " #   Column  Non-Null Count  Dtype  \n",
      "---  ------  --------------  -----  \n",
      " 0   Weight  500 non-null    float64\n",
      " 1   Height  500 non-null    float64\n",
      "dtypes: float64(2)\n",
      "memory usage: 7.9 KB\n"
     ]
    }
   ],
   "source": [
    "df.info()"
   ]
  },
  {
   "cell_type": "code",
   "execution_count": 77,
   "metadata": {},
   "outputs": [
    {
     "data": {
      "text/plain": [
       "Weight    0\n",
       "Height    0\n",
       "dtype: int64"
      ]
     },
     "execution_count": 77,
     "metadata": {},
     "output_type": "execute_result"
    }
   ],
   "source": [
    "df.isnull().sum()"
   ]
  },
  {
   "cell_type": "markdown",
   "metadata": {},
   "source": [
    "# `Scatter` plot between the Weights and the Heights"
   ]
  },
  {
   "cell_type": "code",
   "execution_count": 78,
   "metadata": {},
   "outputs": [
    {
     "data": {
      "image/png": "[encoded data removed]",
      "text/plain": [
       "<Figure size 640x480 with 1 Axes>"
      ]
     },
     "metadata": {},
     "output_type": "display_data"
    }
   ],
   "source": [
    "plt.scatter(df['Weight'], df['Height'])\n",
    "plt.xlabel('Weight')\n",
    "plt.ylabel('Height')\n",
    "plt.grid()"
   ]
  },
  {
   "cell_type": "markdown",
   "metadata": {},
   "source": [
    "# `Histogram` with the Weight and Height counts "
   ]
  },
  {
   "cell_type": "code",
   "execution_count": 79,
   "metadata": {},
   "outputs": [
    {
     "data": {
      "text/plain": [
       "array([[<Axes: title={'center': 'Weight'}>,\n",
       "        <Axes: title={'center': 'Height'}>]], dtype=object)"
      ]
     },
     "execution_count": 79,
     "metadata": {},
     "output_type": "execute_result"
    },
    {
     "data": {
      "image/png": "[encoded data removed]",
      "text/plain": [
       "<Figure size 640x480 with 2 Axes>"
      ]
     },
     "metadata": {},
     "output_type": "display_data"
    }
   ],
   "source": [
    "df.hist()"
   ]
  },
  {
   "cell_type": "markdown",
   "metadata": {},
   "source": [
    "#  Defining the KMeans class from scratch "
   ]
  },
  {
   "cell_type": "code",
   "execution_count": 80,
   "metadata": {},
   "outputs": [],
   "source": [
    "class KMeans:\n",
    "    def __init__(self, n_clusters, max_iters=100):\n",
    "        self.n_clusters = n_clusters\n",
    "        self.max_iters = max_iters\n",
    "\n",
    "    def fit(self, x):\n",
    "        # Initialize centroids randomly\n",
    "        self.centroids = x[np.random.choice(x.shape[0], self.n_clusters, replace=False)]\n",
    "        \n",
    "        for _ in range(self.max_iters):\n",
    "            # Assign each data point to the nearest centroid\n",
    "            labels = self._assign_labels(x)\n",
    "            \n",
    "            # Update centroids\n",
    "            new_centroids = self._update_centroids(x, labels)\n",
    "            \n",
    "            # Check for convergence\n",
    "            if np.all(self.centroids == new_centroids):\n",
    "                break\n",
    "                \n",
    "            self.centroids = new_centroids\n",
    "\n",
    "    def _assign_labels(self, x):\n",
    "        # Compute distances from each data point to centroids\n",
    "        distances = np.linalg.norm(x[:, np.newaxis] - self.centroids, axis=2)\n",
    "        \n",
    "        # Assign labels based on the nearest centroid\n",
    "        return np.argmin(distances, axis=1)\n",
    "    \n",
    "    def _update_centroids(self, x, labels):\n",
    "        new_centroids = np.array([x[labels == i].mean(axis=0) for i in range(self.n_clusters)])\n",
    "        return new_centroids\n",
    "    \n",
    "    def inertia(self, X):\n",
    "        labels = self._assign_labels(X)\n",
    "        return sum(np.linalg.norm(X[labels == i] - self.centroids[i])**2 for i in range(self.n_clusters))"
   ]
  },
  {
   "cell_type": "markdown",
   "metadata": {},
   "source": [
    "# `Elbow Method` to determine the optimal number of clusters"
   ]
  },
  {
   "cell_type": "code",
   "execution_count": 81,
   "metadata": {},
   "outputs": [
    {
     "data": {
      "image/png": "[encoded data removed]",
      "text/plain": [
       "<Figure size 800x500 with 1 Axes>"
      ]
     },
     "metadata": {},
     "output_type": "display_data"
    }
   ],
   "source": [
    "x = df[['Weight', 'Height']].values\n",
    "distortion = []\n",
    "k_values = range(1, 10)\n",
    "for k in k_values:\n",
    "    kmeans = KMeans(n_clusters=k)\n",
    "    kmeans.fit(x)\n",
    "    distortion.append(kmeans.inertia(x))\n",
    "\n",
    "plt.figure(figsize=(8, 5))\n",
    "plt.plot(k_values, distortion, marker='o', linestyle='--')\n",
    "plt.xlabel('Number of Clusters')\n",
    "plt.ylabel('Inertia')\n",
    "plt.title('Elbow Method for Optimal K')\n",
    "plt.grid()\n",
    "plt.show()"
   ]
  },
  {
   "cell_type": "markdown",
   "metadata": {},
   "source": [
    "# Applying KMeans and Plotting the clusters"
   ]
  },
  {
   "cell_type": "code",
   "execution_count": 82,
   "metadata": {},
   "outputs": [
    {
     "data": {
      "image/png": "[encoded data removed]",
      "text/plain": [
       "<Figure size 640x480 with 1 Axes>"
      ]
     },
     "metadata": {},
     "output_type": "display_data"
    }
   ],
   "source": [
    "x = df[['Weight', 'Height']].values\n",
    "kmeans = KMeans(n_clusters=3)\n",
    "kmeans.fit(x)\n",
    "labels = kmeans._assign_labels(x)\n",
    "\n",
    "plt.scatter(x[:, 0], x[:, 1], c=labels, cmap='viridis', alpha=0.5)\n",
    "plt.scatter(kmeans.centroids[:, 0], kmeans.centroids[:, 1], c='red', marker='X', s=200, label='Centroids')\n",
    "plt.xlabel('Weight (kg)')\n",
    "plt.ylabel('Height (cm)')\n",
    "plt.title('K-Means Clustering on Weight-Height Data')\n",
    "plt.legend()\n",
    "plt.grid()\n",
    "plt.show()\n"
   ]
  },
  {
   "cell_type": "markdown",
   "metadata": {},
   "source": [
    "# Defining each cluster and it's personas (min,max,mean,std)"
   ]
  },
  {
   "cell_type": "code",
   "execution_count": 83,
   "metadata": {},
   "outputs": [
    {
     "data": {
      "application/vnd.microsoft.datawrangler.viewer.v0+json": {
       "columns": [
        {
         "name": "index",
         "rawType": "int64",
         "type": "integer"
        },
        {
         "name": "Weight",
         "rawType": "float64",
         "type": "float"
        },
        {
         "name": "Height",
         "rawType": "float64",
         "type": "float"
        },
        {
         "name": "Cluster",
         "rawType": "int64",
         "type": "integer"
        }
       ],
       "conversionMethod": "pd.DataFrame",
       "ref": "48c69a1c-3666-4c5d-b999-27c137461628",
       "rows": [
        [
         "0",
         "67.06292382432797",
         "176.08635470037433",
         "0"
        ],
        [
         "1",
         "68.80409404055906",
         "178.38866853397775",
         "0"
        ],
        [
         "2",
         "60.93086316752808",
         "170.28449576512674",
         "1"
        ],
        [
         "3",
         "59.73384301263917",
         "168.69199180312273",
         "1"
        ],
        [
         "4",
         "65.43123003070372",
         "173.7636790317747",
         "0"
        ],
        [
         "5",
         "61.57716033254962",
         "168.0917512363048",
         "1"
        ],
        [
         "6",
         "63.34186626427547",
         "170.64251602924492",
         "1"
        ],
        [
         "7",
         "61.04164336121978",
         "170.09668165680276",
         "1"
        ],
        [
         "8",
         "62.63362334719166",
         "171.8629715737515",
         "1"
        ],
        [
         "9",
         "53.4078596166848",
         "162.756843114429",
         "2"
        ],
        [
         "10",
         "62.93820030525223",
         "168.71007855359954",
         "1"
        ],
        [
         "11",
         "68.55485709616576",
         "176.4737467967919",
         "0"
        ],
        [
         "12",
         "65.16304259531378",
         "171.17658203536783",
         "1"
        ],
        [
         "13",
         "53.44601710597588",
         "162.91516701320765",
         "2"
        ],
        [
         "14",
         "60.65937348586088",
         "170.6476590778724",
         "1"
        ],
        [
         "15",
         "59.1765543543734",
         "169.19080975295822",
         "1"
        ],
        [
         "16",
         "67.16384091157683",
         "176.33706853049466",
         "0"
        ],
        [
         "17",
         "60.62703390449537",
         "169.8481191146251",
         "1"
        ],
        [
         "18",
         "53.96476394988538",
         "162.49055420493335",
         "2"
        ],
        [
         "19",
         "60.35999202109157",
         "169.89078752485602",
         "1"
        ],
        [
         "20",
         "59.856871023856",
         "168.85468537336587",
         "1"
        ],
        [
         "21",
         "68.02783467584325",
         "177.07516059627648",
         "0"
        ],
        [
         "22",
         "64.5916004593126",
         "170.0628382745213",
         "1"
        ],
        [
         "23",
         "53.55139340605489",
         "162.25694858653677",
         "2"
        ],
        [
         "24",
         "60.44702902335528",
         "170.00817841842982",
         "1"
        ],
        [
         "25",
         "54.83092473050485",
         "163.76973667420708",
         "2"
        ],
        [
         "26",
         "69.30872116335155",
         "177.1115849256339",
         "0"
        ],
        [
         "27",
         "62.73255209100623",
         "169.10528593090274",
         "1"
        ],
        [
         "28",
         "54.18683143331165",
         "164.03403131402146",
         "2"
        ],
        [
         "29",
         "62.62977223054439",
         "167.66272215140384",
         "1"
        ],
        [
         "30",
         "64.4420149294644",
         "169.69123425650596",
         "1"
        ],
        [
         "31",
         "64.51477256770788",
         "169.34934976116304",
         "1"
        ],
        [
         "32",
         "68.86502846321999",
         "177.4894683600019",
         "0"
        ],
        [
         "33",
         "63.88109246801314",
         "170.4171574632091",
         "1"
        ],
        [
         "34",
         "62.47848648578737",
         "169.0076636422035",
         "1"
        ],
        [
         "35",
         "70.69177380966977",
         "178.89477040592664",
         "0"
        ],
        [
         "36",
         "53.55726808997389",
         "162.19776822270825",
         "2"
        ],
        [
         "37",
         "62.28600867963472",
         "170.774429580703",
         "1"
        ],
        [
         "38",
         "54.01520330578971",
         "162.03712437192883",
         "2"
        ],
        [
         "39",
         "68.01439661467153",
         "176.8179609710763",
         "0"
        ],
        [
         "40",
         "52.06898887867419",
         "160.86332118584968",
         "2"
        ],
        [
         "41",
         "62.38717375383146",
         "172.45294212177052",
         "1"
        ],
        [
         "42",
         "59.354863548960864",
         "168.57199984646647",
         "1"
        ],
        [
         "43",
         "68.5427384453777",
         "177.5961376906921",
         "0"
        ],
        [
         "44",
         "64.38072382169786",
         "169.83116828245832",
         "1"
        ],
        [
         "45",
         "67.62212013987352",
         "176.6676185763627",
         "0"
        ],
        [
         "46",
         "62.615403940641535",
         "171.84082283243566",
         "1"
        ],
        [
         "47",
         "60.98457786969972",
         "170.6496322222904",
         "1"
        ],
        [
         "48",
         "67.79216222950862",
         "175.61511830058043",
         "0"
        ],
        [
         "49",
         "68.09973959511291",
         "176.25440699329175",
         "0"
        ]
       ],
       "shape": {
        "columns": 3,
        "rows": 500
       }
      },
      "text/html": [
       "<div>\n",
       "<style scoped>\n",
       "    .dataframe tbody tr th:only-of-type {\n",
       "        vertical-align: middle;\n",
       "    }\n",
       "\n",
       "    .dataframe tbody tr th {\n",
       "        vertical-align: top;\n",
       "    }\n",
       "\n",
       "    .dataframe thead th {\n",
       "        text-align: right;\n",
       "    }\n",
       "</style>\n",
       "<table border=\"1\" class=\"dataframe\">\n",
       "  <thead>\n",
       "    <tr style=\"text-align: right;\">\n",
       "      <th></th>\n",
       "      <th>Weight</th>\n",
       "      <th>Height</th>\n",
       "      <th>Cluster</th>\n",
       "    </tr>\n",
       "  </thead>\n",
       "  <tbody>\n",
       "    <tr>\n",
       "      <th>0</th>\n",
       "      <td>67.062924</td>\n",
       "      <td>176.086355</td>\n",
       "      <td>0</td>\n",
       "    </tr>\n",
       "    <tr>\n",
       "      <th>1</th>\n",
       "      <td>68.804094</td>\n",
       "      <td>178.388669</td>\n",
       "      <td>0</td>\n",
       "    </tr>\n",
       "    <tr>\n",
       "      <th>2</th>\n",
       "      <td>60.930863</td>\n",
       "      <td>170.284496</td>\n",
       "      <td>1</td>\n",
       "    </tr>\n",
       "    <tr>\n",
       "      <th>3</th>\n",
       "      <td>59.733843</td>\n",
       "      <td>168.691992</td>\n",
       "      <td>1</td>\n",
       "    </tr>\n",
       "    <tr>\n",
       "      <th>4</th>\n",
       "      <td>65.431230</td>\n",
       "      <td>173.763679</td>\n",
       "      <td>0</td>\n",
       "    </tr>\n",
       "    <tr>\n",
       "      <th>...</th>\n",
       "      <td>...</td>\n",
       "      <td>...</td>\n",
       "      <td>...</td>\n",
       "    </tr>\n",
       "    <tr>\n",
       "      <th>495</th>\n",
       "      <td>59.976983</td>\n",
       "      <td>169.679741</td>\n",
       "      <td>1</td>\n",
       "    </tr>\n",
       "    <tr>\n",
       "      <th>496</th>\n",
       "      <td>66.423814</td>\n",
       "      <td>174.625574</td>\n",
       "      <td>0</td>\n",
       "    </tr>\n",
       "    <tr>\n",
       "      <th>497</th>\n",
       "      <td>53.604698</td>\n",
       "      <td>161.919208</td>\n",
       "      <td>2</td>\n",
       "    </tr>\n",
       "    <tr>\n",
       "      <th>498</th>\n",
       "      <td>50.433644</td>\n",
       "      <td>160.794875</td>\n",
       "      <td>2</td>\n",
       "    </tr>\n",
       "    <tr>\n",
       "      <th>499</th>\n",
       "      <td>60.224392</td>\n",
       "      <td>169.689709</td>\n",
       "      <td>1</td>\n",
       "    </tr>\n",
       "  </tbody>\n",
       "</table>\n",
       "<p>500 rows × 3 columns</p>\n",
       "</div>"
      ],
      "text/plain": [
       "        Weight      Height  Cluster\n",
       "0    67.062924  176.086355        0\n",
       "1    68.804094  178.388669        0\n",
       "2    60.930863  170.284496        1\n",
       "3    59.733843  168.691992        1\n",
       "4    65.431230  173.763679        0\n",
       "..         ...         ...      ...\n",
       "495  59.976983  169.679741        1\n",
       "496  66.423814  174.625574        0\n",
       "497  53.604698  161.919208        2\n",
       "498  50.433644  160.794875        2\n",
       "499  60.224392  169.689709        1\n",
       "\n",
       "[500 rows x 3 columns]"
      ]
     },
     "execution_count": 83,
     "metadata": {},
     "output_type": "execute_result"
    }
   ],
   "source": [
    "df['Cluster'] = labels\n",
    "df"
   ]
  },
  {
   "cell_type": "code",
   "execution_count": 84,
   "metadata": {},
   "outputs": [
    {
     "data": {
      "application/vnd.microsoft.datawrangler.viewer.v0+json": {
       "columns": [
        {
         "name": "index",
         "rawType": "int64",
         "type": "integer"
        },
        {
         "name": "Weight",
         "rawType": "float64",
         "type": "float"
        },
        {
         "name": "Height",
         "rawType": "float64",
         "type": "float"
        },
        {
         "name": "Cluster",
         "rawType": "int64",
         "type": "integer"
        }
       ],
       "conversionMethod": "pd.DataFrame",
       "ref": "0e07c74c-73a9-4413-8735-80e867f48d9a",
       "rows": [
        [
         "0",
         "67.06292382432797",
         "176.08635470037433",
         "0"
        ],
        [
         "1",
         "68.80409404055906",
         "178.38866853397775",
         "0"
        ],
        [
         "4",
         "65.43123003070372",
         "173.7636790317747",
         "0"
        ],
        [
         "11",
         "68.55485709616576",
         "176.4737467967919",
         "0"
        ],
        [
         "16",
         "67.16384091157683",
         "176.33706853049466",
         "0"
        ],
        [
         "21",
         "68.02783467584325",
         "177.07516059627648",
         "0"
        ],
        [
         "26",
         "69.30872116335155",
         "177.1115849256339",
         "0"
        ],
        [
         "32",
         "68.86502846321999",
         "177.4894683600019",
         "0"
        ],
        [
         "35",
         "70.69177380966977",
         "178.89477040592664",
         "0"
        ],
        [
         "39",
         "68.01439661467153",
         "176.8179609710763",
         "0"
        ],
        [
         "43",
         "68.5427384453777",
         "177.5961376906921",
         "0"
        ],
        [
         "45",
         "67.62212013987352",
         "176.6676185763627",
         "0"
        ],
        [
         "48",
         "67.79216222950862",
         "175.61511830058043",
         "0"
        ],
        [
         "49",
         "68.09973959511291",
         "176.25440699329175",
         "0"
        ],
        [
         "52",
         "66.45506155070665",
         "171.21648881026795",
         "0"
        ],
        [
         "59",
         "67.17963143321145",
         "175.78505638621905",
         "0"
        ],
        [
         "60",
         "67.32285128891974",
         "175.835061070413",
         "0"
        ],
        [
         "62",
         "67.89054866798278",
         "176.20200790743414",
         "0"
        ],
        [
         "63",
         "67.20385558241239",
         "175.55999533035396",
         "0"
        ],
        [
         "64",
         "68.71053654063587",
         "176.53463589929845",
         "0"
        ],
        [
         "67",
         "66.86554277939437",
         "175.62003194436952",
         "0"
        ],
        [
         "73",
         "68.25373169288363",
         "176.4082602867513",
         "0"
        ],
        [
         "75",
         "68.74279720403317",
         "176.76138936082032",
         "0"
        ],
        [
         "88",
         "65.98361012689688",
         "175.63912785082675",
         "0"
        ],
        [
         "92",
         "67.69554157618275",
         "175.99020344783742",
         "0"
        ],
        [
         "96",
         "67.0188201582121",
         "175.1006845628446",
         "0"
        ],
        [
         "97",
         "69.98575251520012",
         "177.52258458562738",
         "0"
        ],
        [
         "98",
         "66.76407728166573",
         "175.57748316851462",
         "0"
        ],
        [
         "102",
         "66.81686469156512",
         "174.4736068500847",
         "0"
        ],
        [
         "107",
         "68.35007073597576",
         "176.20348272656187",
         "0"
        ],
        [
         "114",
         "68.00440667459821",
         "175.9949466852467",
         "0"
        ],
        [
         "116",
         "67.0932737725722",
         "175.4011250493237",
         "0"
        ],
        [
         "119",
         "67.29406412192955",
         "176.12303892560976",
         "0"
        ],
        [
         "122",
         "66.40019391872181",
         "175.13078674395584",
         "0"
        ],
        [
         "123",
         "67.9672821802355",
         "175.98727273044452",
         "0"
        ],
        [
         "125",
         "67.30893188827656",
         "175.71382513165312",
         "0"
        ],
        [
         "126",
         "67.36510129102095",
         "176.26787994898126",
         "0"
        ],
        [
         "127",
         "67.77255436469709",
         "176.20942533234006",
         "0"
        ],
        [
         "128",
         "67.09105858495406",
         "176.95459094394434",
         "0"
        ],
        [
         "137",
         "68.59159924520786",
         "177.10027786355045",
         "0"
        ],
        [
         "140",
         "67.67362808708852",
         "177.82529927140214",
         "0"
        ],
        [
         "141",
         "67.46850178578399",
         "175.6516800230289",
         "0"
        ],
        [
         "142",
         "66.29926202999609",
         "174.75237257852584",
         "0"
        ],
        [
         "143",
         "67.33806826783771",
         "176.94094483630593",
         "0"
        ],
        [
         "151",
         "66.52404494835693",
         "176.24951259142003",
         "0"
        ],
        [
         "157",
         "67.74310335930215",
         "175.9429020359012",
         "0"
        ],
        [
         "160",
         "68.22783138834785",
         "176.48681097501745",
         "0"
        ],
        [
         "162",
         "65.51411042365518",
         "175.5632777518776",
         "0"
        ],
        [
         "163",
         "65.6070863674821",
         "174.26729576736724",
         "0"
        ],
        [
         "166",
         "70.58917620900223",
         "178.77217381551205",
         "0"
        ]
       ],
       "shape": {
        "columns": 3,
        "rows": 129
       }
      },
      "text/html": [
       "<div>\n",
       "<style scoped>\n",
       "    .dataframe tbody tr th:only-of-type {\n",
       "        vertical-align: middle;\n",
       "    }\n",
       "\n",
       "    .dataframe tbody tr th {\n",
       "        vertical-align: top;\n",
       "    }\n",
       "\n",
       "    .dataframe thead th {\n",
       "        text-align: right;\n",
       "    }\n",
       "</style>\n",
       "<table border=\"1\" class=\"dataframe\">\n",
       "  <thead>\n",
       "    <tr style=\"text-align: right;\">\n",
       "      <th></th>\n",
       "      <th>Weight</th>\n",
       "      <th>Height</th>\n",
       "      <th>Cluster</th>\n",
       "    </tr>\n",
       "  </thead>\n",
       "  <tbody>\n",
       "    <tr>\n",
       "      <th>0</th>\n",
       "      <td>67.062924</td>\n",
       "      <td>176.086355</td>\n",
       "      <td>0</td>\n",
       "    </tr>\n",
       "    <tr>\n",
       "      <th>1</th>\n",
       "      <td>68.804094</td>\n",
       "      <td>178.388669</td>\n",
       "      <td>0</td>\n",
       "    </tr>\n",
       "    <tr>\n",
       "      <th>4</th>\n",
       "      <td>65.431230</td>\n",
       "      <td>173.763679</td>\n",
       "      <td>0</td>\n",
       "    </tr>\n",
       "    <tr>\n",
       "      <th>11</th>\n",
       "      <td>68.554857</td>\n",
       "      <td>176.473747</td>\n",
       "      <td>0</td>\n",
       "    </tr>\n",
       "    <tr>\n",
       "      <th>16</th>\n",
       "      <td>67.163841</td>\n",
       "      <td>176.337069</td>\n",
       "      <td>0</td>\n",
       "    </tr>\n",
       "    <tr>\n",
       "      <th>...</th>\n",
       "      <td>...</td>\n",
       "      <td>...</td>\n",
       "      <td>...</td>\n",
       "    </tr>\n",
       "    <tr>\n",
       "      <th>467</th>\n",
       "      <td>67.392113</td>\n",
       "      <td>176.457490</td>\n",
       "      <td>0</td>\n",
       "    </tr>\n",
       "    <tr>\n",
       "      <th>469</th>\n",
       "      <td>67.561705</td>\n",
       "      <td>176.047309</td>\n",
       "      <td>0</td>\n",
       "    </tr>\n",
       "    <tr>\n",
       "      <th>471</th>\n",
       "      <td>67.020706</td>\n",
       "      <td>174.290696</td>\n",
       "      <td>0</td>\n",
       "    </tr>\n",
       "    <tr>\n",
       "      <th>488</th>\n",
       "      <td>66.373248</td>\n",
       "      <td>176.309816</td>\n",
       "      <td>0</td>\n",
       "    </tr>\n",
       "    <tr>\n",
       "      <th>496</th>\n",
       "      <td>66.423814</td>\n",
       "      <td>174.625574</td>\n",
       "      <td>0</td>\n",
       "    </tr>\n",
       "  </tbody>\n",
       "</table>\n",
       "<p>129 rows × 3 columns</p>\n",
       "</div>"
      ],
      "text/plain": [
       "        Weight      Height  Cluster\n",
       "0    67.062924  176.086355        0\n",
       "1    68.804094  178.388669        0\n",
       "4    65.431230  173.763679        0\n",
       "11   68.554857  176.473747        0\n",
       "16   67.163841  176.337069        0\n",
       "..         ...         ...      ...\n",
       "467  67.392113  176.457490        0\n",
       "469  67.561705  176.047309        0\n",
       "471  67.020706  174.290696        0\n",
       "488  66.373248  176.309816        0\n",
       "496  66.423814  174.625574        0\n",
       "\n",
       "[129 rows x 3 columns]"
      ]
     },
     "execution_count": 84,
     "metadata": {},
     "output_type": "execute_result"
    }
   ],
   "source": [
    "cluster1 = df[df['Cluster'] == 0 ]\n",
    "cluster1"
   ]
  },
  {
   "cell_type": "code",
   "execution_count": 85,
   "metadata": {},
   "outputs": [
    {
     "data": {
      "application/vnd.microsoft.datawrangler.viewer.v0+json": {
       "columns": [
        {
         "name": "index",
         "rawType": "object",
         "type": "string"
        },
        {
         "name": "Weight",
         "rawType": "float64",
         "type": "float"
        },
        {
         "name": "Height",
         "rawType": "float64",
         "type": "float"
        },
        {
         "name": "Cluster",
         "rawType": "float64",
         "type": "float"
        }
       ],
       "conversionMethod": "pd.DataFrame",
       "ref": "e55e7003-11e8-4304-b5bd-e94846a02f33",
       "rows": [
        [
         "count",
         "129.0",
         "129.0",
         "129.0"
        ],
        [
         "mean",
         "67.48040872605488",
         "175.86017522911928",
         "0.0"
        ],
        [
         "std",
         "1.1442136037403028",
         "1.2628846151156752",
         "0.0"
        ],
        [
         "min",
         "64.59402463408792",
         "171.21648881026795",
         "0.0"
        ],
        [
         "25%",
         "66.8104463530753",
         "175.37205851556388",
         "0.0"
        ],
        [
         "50%",
         "67.46850178578399",
         "176.0292159860678",
         "0.0"
        ],
        [
         "75%",
         "68.22783138834785",
         "176.54904469960422",
         "0.0"
        ],
        [
         "max",
         "70.7004560092701",
         "178.89477040592664",
         "0.0"
        ]
       ],
       "shape": {
        "columns": 3,
        "rows": 8
       }
      },
      "text/html": [
       "<div>\n",
       "<style scoped>\n",
       "    .dataframe tbody tr th:only-of-type {\n",
       "        vertical-align: middle;\n",
       "    }\n",
       "\n",
       "    .dataframe tbody tr th {\n",
       "        vertical-align: top;\n",
       "    }\n",
       "\n",
       "    .dataframe thead th {\n",
       "        text-align: right;\n",
       "    }\n",
       "</style>\n",
       "<table border=\"1\" class=\"dataframe\">\n",
       "  <thead>\n",
       "    <tr style=\"text-align: right;\">\n",
       "      <th></th>\n",
       "      <th>Weight</th>\n",
       "      <th>Height</th>\n",
       "      <th>Cluster</th>\n",
       "    </tr>\n",
       "  </thead>\n",
       "  <tbody>\n",
       "    <tr>\n",
       "      <th>count</th>\n",
       "      <td>129.000000</td>\n",
       "      <td>129.000000</td>\n",
       "      <td>129.0</td>\n",
       "    </tr>\n",
       "    <tr>\n",
       "      <th>mean</th>\n",
       "      <td>67.480409</td>\n",
       "      <td>175.860175</td>\n",
       "      <td>0.0</td>\n",
       "    </tr>\n",
       "    <tr>\n",
       "      <th>std</th>\n",
       "      <td>1.144214</td>\n",
       "      <td>1.262885</td>\n",
       "      <td>0.0</td>\n",
       "    </tr>\n",
       "    <tr>\n",
       "      <th>min</th>\n",
       "      <td>64.594025</td>\n",
       "      <td>171.216489</td>\n",
       "      <td>0.0</td>\n",
       "    </tr>\n",
       "    <tr>\n",
       "      <th>25%</th>\n",
       "      <td>66.810446</td>\n",
       "      <td>175.372059</td>\n",
       "      <td>0.0</td>\n",
       "    </tr>\n",
       "    <tr>\n",
       "      <th>50%</th>\n",
       "      <td>67.468502</td>\n",
       "      <td>176.029216</td>\n",
       "      <td>0.0</td>\n",
       "    </tr>\n",
       "    <tr>\n",
       "      <th>75%</th>\n",
       "      <td>68.227831</td>\n",
       "      <td>176.549045</td>\n",
       "      <td>0.0</td>\n",
       "    </tr>\n",
       "    <tr>\n",
       "      <th>max</th>\n",
       "      <td>70.700456</td>\n",
       "      <td>178.894770</td>\n",
       "      <td>0.0</td>\n",
       "    </tr>\n",
       "  </tbody>\n",
       "</table>\n",
       "</div>"
      ],
      "text/plain": [
       "           Weight      Height  Cluster\n",
       "count  129.000000  129.000000    129.0\n",
       "mean    67.480409  175.860175      0.0\n",
       "std      1.144214    1.262885      0.0\n",
       "min     64.594025  171.216489      0.0\n",
       "25%     66.810446  175.372059      0.0\n",
       "50%     67.468502  176.029216      0.0\n",
       "75%     68.227831  176.549045      0.0\n",
       "max     70.700456  178.894770      0.0"
      ]
     },
     "execution_count": 85,
     "metadata": {},
     "output_type": "execute_result"
    }
   ],
   "source": [
    "cluster1.describe()"
   ]
  },
  {
   "cell_type": "code",
   "execution_count": 86,
   "metadata": {},
   "outputs": [
    {
     "data": {
      "application/vnd.microsoft.datawrangler.viewer.v0+json": {
       "columns": [
        {
         "name": "index",
         "rawType": "int64",
         "type": "integer"
        },
        {
         "name": "Weight",
         "rawType": "float64",
         "type": "float"
        },
        {
         "name": "Height",
         "rawType": "float64",
         "type": "float"
        },
        {
         "name": "Cluster",
         "rawType": "int64",
         "type": "integer"
        }
       ],
       "conversionMethod": "pd.DataFrame",
       "ref": "b47965e6-9501-448f-b105-aa168182514e",
       "rows": [
        [
         "2",
         "60.93086316752808",
         "170.28449576512674",
         "1"
        ],
        [
         "3",
         "59.73384301263917",
         "168.69199180312273",
         "1"
        ],
        [
         "5",
         "61.57716033254962",
         "168.0917512363048",
         "1"
        ],
        [
         "6",
         "63.34186626427547",
         "170.64251602924492",
         "1"
        ],
        [
         "7",
         "61.04164336121978",
         "170.09668165680276",
         "1"
        ],
        [
         "8",
         "62.63362334719166",
         "171.8629715737515",
         "1"
        ],
        [
         "10",
         "62.93820030525223",
         "168.71007855359954",
         "1"
        ],
        [
         "12",
         "65.16304259531378",
         "171.17658203536783",
         "1"
        ],
        [
         "14",
         "60.65937348586088",
         "170.6476590778724",
         "1"
        ],
        [
         "15",
         "59.1765543543734",
         "169.19080975295822",
         "1"
        ],
        [
         "17",
         "60.62703390449537",
         "169.8481191146251",
         "1"
        ],
        [
         "19",
         "60.35999202109157",
         "169.89078752485602",
         "1"
        ],
        [
         "20",
         "59.856871023856",
         "168.85468537336587",
         "1"
        ],
        [
         "22",
         "64.5916004593126",
         "170.0628382745213",
         "1"
        ],
        [
         "24",
         "60.44702902335528",
         "170.00817841842982",
         "1"
        ],
        [
         "27",
         "62.73255209100623",
         "169.10528593090274",
         "1"
        ],
        [
         "29",
         "62.62977223054439",
         "167.66272215140384",
         "1"
        ],
        [
         "30",
         "64.4420149294644",
         "169.69123425650596",
         "1"
        ],
        [
         "31",
         "64.51477256770788",
         "169.34934976116304",
         "1"
        ],
        [
         "33",
         "63.88109246801314",
         "170.4171574632091",
         "1"
        ],
        [
         "34",
         "62.47848648578737",
         "169.0076636422035",
         "1"
        ],
        [
         "37",
         "62.28600867963472",
         "170.774429580703",
         "1"
        ],
        [
         "41",
         "62.38717375383146",
         "172.45294212177052",
         "1"
        ],
        [
         "42",
         "59.354863548960864",
         "168.57199984646647",
         "1"
        ],
        [
         "44",
         "64.38072382169786",
         "169.83116828245832",
         "1"
        ],
        [
         "46",
         "62.615403940641535",
         "171.84082283243566",
         "1"
        ],
        [
         "47",
         "60.98457786969972",
         "170.6496322222904",
         "1"
        ],
        [
         "53",
         "62.29651635113434",
         "171.0107465151392",
         "1"
        ],
        [
         "54",
         "58.70446347426483",
         "168.62897547169163",
         "1"
        ],
        [
         "55",
         "62.7948774156344",
         "169.89076902750503",
         "1"
        ],
        [
         "56",
         "64.04290008877624",
         "170.31609059488474",
         "1"
        ],
        [
         "65",
         "63.02658071348684",
         "167.723607897848",
         "1"
        ],
        [
         "66",
         "59.73288740247748",
         "168.63181672994932",
         "1"
        ],
        [
         "68",
         "60.26584458471088",
         "169.7723065824764",
         "1"
        ],
        [
         "69",
         "63.99560319545829",
         "169.03941480955734",
         "1"
        ],
        [
         "71",
         "61.03111675697528",
         "171.24776338608447",
         "1"
        ],
        [
         "76",
         "63.64009621841368",
         "169.729594265982",
         "1"
        ],
        [
         "77",
         "63.75465324434185",
         "169.45966648231772",
         "1"
        ],
        [
         "78",
         "61.17689902789024",
         "169.62116747065062",
         "1"
        ],
        [
         "79",
         "61.33824367504442",
         "170.0101543728108",
         "1"
        ],
        [
         "81",
         "61.57051765901801",
         "170.6968064072105",
         "1"
        ],
        [
         "83",
         "62.060935075294445",
         "170.7464347611765",
         "1"
        ],
        [
         "84",
         "59.75761312392777",
         "169.25586163139417",
         "1"
        ],
        [
         "85",
         "64.43404738636889",
         "170.04647470400556",
         "1"
        ],
        [
         "94",
         "59.2595927555836",
         "168.81800341615553",
         "1"
        ],
        [
         "95",
         "60.96913010882544",
         "170.0562219988779",
         "1"
        ],
        [
         "99",
         "61.06155202409405",
         "169.76070037141733",
         "1"
        ],
        [
         "104",
         "60.664347423043",
         "169.78602494379007",
         "1"
        ],
        [
         "105",
         "58.62404678738088",
         "168.62020379194237",
         "1"
        ],
        [
         "106",
         "61.85781376180202",
         "167.86158378380978",
         "1"
        ]
       ],
       "shape": {
        "columns": 3,
        "rows": 246
       }
      },
      "text/html": [
       "<div>\n",
       "<style scoped>\n",
       "    .dataframe tbody tr th:only-of-type {\n",
       "        vertical-align: middle;\n",
       "    }\n",
       "\n",
       "    .dataframe tbody tr th {\n",
       "        vertical-align: top;\n",
       "    }\n",
       "\n",
       "    .dataframe thead th {\n",
       "        text-align: right;\n",
       "    }\n",
       "</style>\n",
       "<table border=\"1\" class=\"dataframe\">\n",
       "  <thead>\n",
       "    <tr style=\"text-align: right;\">\n",
       "      <th></th>\n",
       "      <th>Weight</th>\n",
       "      <th>Height</th>\n",
       "      <th>Cluster</th>\n",
       "    </tr>\n",
       "  </thead>\n",
       "  <tbody>\n",
       "    <tr>\n",
       "      <th>2</th>\n",
       "      <td>60.930863</td>\n",
       "      <td>170.284496</td>\n",
       "      <td>1</td>\n",
       "    </tr>\n",
       "    <tr>\n",
       "      <th>3</th>\n",
       "      <td>59.733843</td>\n",
       "      <td>168.691992</td>\n",
       "      <td>1</td>\n",
       "    </tr>\n",
       "    <tr>\n",
       "      <th>5</th>\n",
       "      <td>61.577160</td>\n",
       "      <td>168.091751</td>\n",
       "      <td>1</td>\n",
       "    </tr>\n",
       "    <tr>\n",
       "      <th>6</th>\n",
       "      <td>63.341866</td>\n",
       "      <td>170.642516</td>\n",
       "      <td>1</td>\n",
       "    </tr>\n",
       "    <tr>\n",
       "      <th>7</th>\n",
       "      <td>61.041643</td>\n",
       "      <td>170.096682</td>\n",
       "      <td>1</td>\n",
       "    </tr>\n",
       "    <tr>\n",
       "      <th>...</th>\n",
       "      <td>...</td>\n",
       "      <td>...</td>\n",
       "      <td>...</td>\n",
       "    </tr>\n",
       "    <tr>\n",
       "      <th>492</th>\n",
       "      <td>62.311154</td>\n",
       "      <td>170.593457</td>\n",
       "      <td>1</td>\n",
       "    </tr>\n",
       "    <tr>\n",
       "      <th>493</th>\n",
       "      <td>61.848894</td>\n",
       "      <td>168.260194</td>\n",
       "      <td>1</td>\n",
       "    </tr>\n",
       "    <tr>\n",
       "      <th>494</th>\n",
       "      <td>62.200362</td>\n",
       "      <td>167.889268</td>\n",
       "      <td>1</td>\n",
       "    </tr>\n",
       "    <tr>\n",
       "      <th>495</th>\n",
       "      <td>59.976983</td>\n",
       "      <td>169.679741</td>\n",
       "      <td>1</td>\n",
       "    </tr>\n",
       "    <tr>\n",
       "      <th>499</th>\n",
       "      <td>60.224392</td>\n",
       "      <td>169.689709</td>\n",
       "      <td>1</td>\n",
       "    </tr>\n",
       "  </tbody>\n",
       "</table>\n",
       "<p>246 rows × 3 columns</p>\n",
       "</div>"
      ],
      "text/plain": [
       "        Weight      Height  Cluster\n",
       "2    60.930863  170.284496        1\n",
       "3    59.733843  168.691992        1\n",
       "5    61.577160  168.091751        1\n",
       "6    63.341866  170.642516        1\n",
       "7    61.041643  170.096682        1\n",
       "..         ...         ...      ...\n",
       "492  62.311154  170.593457        1\n",
       "493  61.848894  168.260194        1\n",
       "494  62.200362  167.889268        1\n",
       "495  59.976983  169.679741        1\n",
       "499  60.224392  169.689709        1\n",
       "\n",
       "[246 rows x 3 columns]"
      ]
     },
     "execution_count": 86,
     "metadata": {},
     "output_type": "execute_result"
    }
   ],
   "source": [
    "cluster2 = df[df['Cluster'] == 1 ]\n",
    "cluster2"
   ]
  },
  {
   "cell_type": "code",
   "execution_count": 87,
   "metadata": {},
   "outputs": [
    {
     "data": {
      "application/vnd.microsoft.datawrangler.viewer.v0+json": {
       "columns": [
        {
         "name": "index",
         "rawType": "object",
         "type": "string"
        },
        {
         "name": "Weight",
         "rawType": "float64",
         "type": "float"
        },
        {
         "name": "Height",
         "rawType": "float64",
         "type": "float"
        },
        {
         "name": "Cluster",
         "rawType": "float64",
         "type": "float"
        }
       ],
       "conversionMethod": "pd.DataFrame",
       "ref": "7a955a8a-d0c3-442a-b32c-ae7c649919a6",
       "rows": [
        [
         "count",
         "246.0",
         "246.0",
         "246.0"
        ],
        [
         "mean",
         "61.911015465107226",
         "169.61922731198217",
         "1.0"
        ],
        [
         "std",
         "1.719047965893767",
         "1.1003772202097073",
         "0.0"
        ],
        [
         "min",
         "58.337461294988245",
         "167.01825064051462",
         "1.0"
        ],
        [
         "25%",
         "60.59902815816485",
         "168.78648351408697",
         "1.0"
        ],
        [
         "50%",
         "61.922188048021425",
         "169.71723617976352",
         "1.0"
        ],
        [
         "75%",
         "63.27191706507234",
         "170.39357848958568",
         "1.0"
        ],
        [
         "max",
         "65.90628614219581",
         "172.79920990129892",
         "1.0"
        ]
       ],
       "shape": {
        "columns": 3,
        "rows": 8
       }
      },
      "text/html": [
       "<div>\n",
       "<style scoped>\n",
       "    .dataframe tbody tr th:only-of-type {\n",
       "        vertical-align: middle;\n",
       "    }\n",
       "\n",
       "    .dataframe tbody tr th {\n",
       "        vertical-align: top;\n",
       "    }\n",
       "\n",
       "    .dataframe thead th {\n",
       "        text-align: right;\n",
       "    }\n",
       "</style>\n",
       "<table border=\"1\" class=\"dataframe\">\n",
       "  <thead>\n",
       "    <tr style=\"text-align: right;\">\n",
       "      <th></th>\n",
       "      <th>Weight</th>\n",
       "      <th>Height</th>\n",
       "      <th>Cluster</th>\n",
       "    </tr>\n",
       "  </thead>\n",
       "  <tbody>\n",
       "    <tr>\n",
       "      <th>count</th>\n",
       "      <td>246.000000</td>\n",
       "      <td>246.000000</td>\n",
       "      <td>246.0</td>\n",
       "    </tr>\n",
       "    <tr>\n",
       "      <th>mean</th>\n",
       "      <td>61.911015</td>\n",
       "      <td>169.619227</td>\n",
       "      <td>1.0</td>\n",
       "    </tr>\n",
       "    <tr>\n",
       "      <th>std</th>\n",
       "      <td>1.719048</td>\n",
       "      <td>1.100377</td>\n",
       "      <td>0.0</td>\n",
       "    </tr>\n",
       "    <tr>\n",
       "      <th>min</th>\n",
       "      <td>58.337461</td>\n",
       "      <td>167.018251</td>\n",
       "      <td>1.0</td>\n",
       "    </tr>\n",
       "    <tr>\n",
       "      <th>25%</th>\n",
       "      <td>60.599028</td>\n",
       "      <td>168.786484</td>\n",
       "      <td>1.0</td>\n",
       "    </tr>\n",
       "    <tr>\n",
       "      <th>50%</th>\n",
       "      <td>61.922188</td>\n",
       "      <td>169.717236</td>\n",
       "      <td>1.0</td>\n",
       "    </tr>\n",
       "    <tr>\n",
       "      <th>75%</th>\n",
       "      <td>63.271917</td>\n",
       "      <td>170.393578</td>\n",
       "      <td>1.0</td>\n",
       "    </tr>\n",
       "    <tr>\n",
       "      <th>max</th>\n",
       "      <td>65.906286</td>\n",
       "      <td>172.799210</td>\n",
       "      <td>1.0</td>\n",
       "    </tr>\n",
       "  </tbody>\n",
       "</table>\n",
       "</div>"
      ],
      "text/plain": [
       "           Weight      Height  Cluster\n",
       "count  246.000000  246.000000    246.0\n",
       "mean    61.911015  169.619227      1.0\n",
       "std      1.719048    1.100377      0.0\n",
       "min     58.337461  167.018251      1.0\n",
       "25%     60.599028  168.786484      1.0\n",
       "50%     61.922188  169.717236      1.0\n",
       "75%     63.271917  170.393578      1.0\n",
       "max     65.906286  172.799210      1.0"
      ]
     },
     "execution_count": 87,
     "metadata": {},
     "output_type": "execute_result"
    }
   ],
   "source": [
    "cluster2.describe()"
   ]
  },
  {
   "cell_type": "code",
   "execution_count": 88,
   "metadata": {},
   "outputs": [
    {
     "data": {
      "application/vnd.microsoft.datawrangler.viewer.v0+json": {
       "columns": [
        {
         "name": "index",
         "rawType": "int64",
         "type": "integer"
        },
        {
         "name": "Weight",
         "rawType": "float64",
         "type": "float"
        },
        {
         "name": "Height",
         "rawType": "float64",
         "type": "float"
        },
        {
         "name": "Cluster",
         "rawType": "int64",
         "type": "integer"
        }
       ],
       "conversionMethod": "pd.DataFrame",
       "ref": "491b58a8-1457-4bc2-ab8c-eb8463a729c3",
       "rows": [
        [
         "9",
         "53.4078596166848",
         "162.756843114429",
         "2"
        ],
        [
         "13",
         "53.44601710597588",
         "162.91516701320765",
         "2"
        ],
        [
         "18",
         "53.96476394988538",
         "162.49055420493335",
         "2"
        ],
        [
         "23",
         "53.55139340605489",
         "162.25694858653677",
         "2"
        ],
        [
         "25",
         "54.83092473050485",
         "163.76973667420708",
         "2"
        ],
        [
         "28",
         "54.18683143331165",
         "164.03403131402146",
         "2"
        ],
        [
         "36",
         "53.55726808997389",
         "162.19776822270825",
         "2"
        ],
        [
         "38",
         "54.01520330578971",
         "162.03712437192883",
         "2"
        ],
        [
         "40",
         "52.06898887867419",
         "160.86332118584968",
         "2"
        ],
        [
         "50",
         "53.51571682625722",
         "162.70617728690735",
         "2"
        ],
        [
         "51",
         "53.2926616901175",
         "162.82407433846487",
         "2"
        ],
        [
         "57",
         "53.29334142993301",
         "161.95139649011142",
         "2"
        ],
        [
         "58",
         "54.24470276140747",
         "164.80994214096447",
         "2"
        ],
        [
         "61",
         "54.577056257481125",
         "163.18742968006876",
         "2"
        ],
        [
         "70",
         "51.62855362221445",
         "161.63787710810115",
         "2"
        ],
        [
         "72",
         "51.798233420578846",
         "161.47779743074747",
         "2"
        ],
        [
         "74",
         "52.13072949868413",
         "162.2986191760233",
         "2"
        ],
        [
         "80",
         "53.61670244840589",
         "162.75825099383985",
         "2"
        ],
        [
         "82",
         "54.20840156092425",
         "162.6985434076115",
         "2"
        ],
        [
         "86",
         "53.35527707639133",
         "162.0129715942904",
         "2"
        ],
        [
         "87",
         "54.45472274859101",
         "163.9849274782012",
         "2"
        ],
        [
         "89",
         "53.88228841925861",
         "162.99110965309026",
         "2"
        ],
        [
         "90",
         "53.7137738475436",
         "162.8530793860932",
         "2"
        ],
        [
         "91",
         "55.46345663192877",
         "164.10459317990652",
         "2"
        ],
        [
         "93",
         "54.08461307409984",
         "163.06290254922266",
         "2"
        ],
        [
         "100",
         "52.1346691021662",
         "161.9351167068352",
         "2"
        ],
        [
         "101",
         "54.62612905513474",
         "163.01456840047678",
         "2"
        ],
        [
         "103",
         "54.06062458997554",
         "163.9342609760824",
         "2"
        ],
        [
         "109",
         "54.64342480475315",
         "163.34758030252894",
         "2"
        ],
        [
         "110",
         "53.99848734136172",
         "163.00088843561488",
         "2"
        ],
        [
         "112",
         "54.07585095906077",
         "163.23958942053451",
         "2"
        ],
        [
         "113",
         "54.62194554120148",
         "163.3439004343204",
         "2"
        ],
        [
         "115",
         "52.8480637434342",
         "161.8898922201049",
         "2"
        ],
        [
         "121",
         "53.50985446148498",
         "162.56685805364123",
         "2"
        ],
        [
         "124",
         "53.688597319927936",
         "163.12301025005766",
         "2"
        ],
        [
         "129",
         "54.09931856386777",
         "164.34902989532748",
         "2"
        ],
        [
         "131",
         "53.49238880801258",
         "163.38734751059607",
         "2"
        ],
        [
         "133",
         "52.79000647498707",
         "163.04546706231116",
         "2"
        ],
        [
         "134",
         "54.618098400708746",
         "164.00992213772545",
         "2"
        ],
        [
         "135",
         "54.34913718880934",
         "162.38650735335068",
         "2"
        ],
        [
         "145",
         "53.91885119615319",
         "162.81003252076837",
         "2"
        ],
        [
         "149",
         "53.6477796862881",
         "162.32054330475768",
         "2"
        ],
        [
         "150",
         "56.07878064846279",
         "165.15279707210678",
         "2"
        ],
        [
         "168",
         "53.57177576775285",
         "162.40350274659554",
         "2"
        ],
        [
         "171",
         "53.1659888035064",
         "162.7699698637853",
         "2"
        ],
        [
         "175",
         "51.61126053166667",
         "160.71711897839933",
         "2"
        ],
        [
         "177",
         "52.02031483410235",
         "161.76731314824409",
         "2"
        ],
        [
         "178",
         "51.45486290716201",
         "160.70126807267366",
         "2"
        ],
        [
         "179",
         "53.794280194092615",
         "163.203919358618",
         "2"
        ],
        [
         "185",
         "54.29603153288434",
         "163.82547199021332",
         "2"
        ]
       ],
       "shape": {
        "columns": 3,
        "rows": 125
       }
      },
      "text/html": [
       "<div>\n",
       "<style scoped>\n",
       "    .dataframe tbody tr th:only-of-type {\n",
       "        vertical-align: middle;\n",
       "    }\n",
       "\n",
       "    .dataframe tbody tr th {\n",
       "        vertical-align: top;\n",
       "    }\n",
       "\n",
       "    .dataframe thead th {\n",
       "        text-align: right;\n",
       "    }\n",
       "</style>\n",
       "<table border=\"1\" class=\"dataframe\">\n",
       "  <thead>\n",
       "    <tr style=\"text-align: right;\">\n",
       "      <th></th>\n",
       "      <th>Weight</th>\n",
       "      <th>Height</th>\n",
       "      <th>Cluster</th>\n",
       "    </tr>\n",
       "  </thead>\n",
       "  <tbody>\n",
       "    <tr>\n",
       "      <th>9</th>\n",
       "      <td>53.407860</td>\n",
       "      <td>162.756843</td>\n",
       "      <td>2</td>\n",
       "    </tr>\n",
       "    <tr>\n",
       "      <th>13</th>\n",
       "      <td>53.446017</td>\n",
       "      <td>162.915167</td>\n",
       "      <td>2</td>\n",
       "    </tr>\n",
       "    <tr>\n",
       "      <th>18</th>\n",
       "      <td>53.964764</td>\n",
       "      <td>162.490554</td>\n",
       "      <td>2</td>\n",
       "    </tr>\n",
       "    <tr>\n",
       "      <th>23</th>\n",
       "      <td>53.551393</td>\n",
       "      <td>162.256949</td>\n",
       "      <td>2</td>\n",
       "    </tr>\n",
       "    <tr>\n",
       "      <th>25</th>\n",
       "      <td>54.830925</td>\n",
       "      <td>163.769737</td>\n",
       "      <td>2</td>\n",
       "    </tr>\n",
       "    <tr>\n",
       "      <th>...</th>\n",
       "      <td>...</td>\n",
       "      <td>...</td>\n",
       "      <td>...</td>\n",
       "    </tr>\n",
       "    <tr>\n",
       "      <th>483</th>\n",
       "      <td>53.578495</td>\n",
       "      <td>162.430613</td>\n",
       "      <td>2</td>\n",
       "    </tr>\n",
       "    <tr>\n",
       "      <th>487</th>\n",
       "      <td>54.069163</td>\n",
       "      <td>162.998875</td>\n",
       "      <td>2</td>\n",
       "    </tr>\n",
       "    <tr>\n",
       "      <th>491</th>\n",
       "      <td>55.223039</td>\n",
       "      <td>163.405498</td>\n",
       "      <td>2</td>\n",
       "    </tr>\n",
       "    <tr>\n",
       "      <th>497</th>\n",
       "      <td>53.604698</td>\n",
       "      <td>161.919208</td>\n",
       "      <td>2</td>\n",
       "    </tr>\n",
       "    <tr>\n",
       "      <th>498</th>\n",
       "      <td>50.433644</td>\n",
       "      <td>160.794875</td>\n",
       "      <td>2</td>\n",
       "    </tr>\n",
       "  </tbody>\n",
       "</table>\n",
       "<p>125 rows × 3 columns</p>\n",
       "</div>"
      ],
      "text/plain": [
       "        Weight      Height  Cluster\n",
       "9    53.407860  162.756843        2\n",
       "13   53.446017  162.915167        2\n",
       "18   53.964764  162.490554        2\n",
       "23   53.551393  162.256949        2\n",
       "25   54.830925  163.769737        2\n",
       "..         ...         ...      ...\n",
       "483  53.578495  162.430613        2\n",
       "487  54.069163  162.998875        2\n",
       "491  55.223039  163.405498        2\n",
       "497  53.604698  161.919208        2\n",
       "498  50.433644  160.794875        2\n",
       "\n",
       "[125 rows x 3 columns]"
      ]
     },
     "execution_count": 88,
     "metadata": {},
     "output_type": "execute_result"
    }
   ],
   "source": [
    "cluster3 = df[df['Cluster'] == 2 ]\n",
    "cluster3"
   ]
  },
  {
   "cell_type": "code",
   "execution_count": 89,
   "metadata": {},
   "outputs": [
    {
     "data": {
      "application/vnd.microsoft.datawrangler.viewer.v0+json": {
       "columns": [
        {
         "name": "index",
         "rawType": "object",
         "type": "string"
        },
        {
         "name": "Weight",
         "rawType": "float64",
         "type": "float"
        },
        {
         "name": "Height",
         "rawType": "float64",
         "type": "float"
        },
        {
         "name": "Cluster",
         "rawType": "float64",
         "type": "float"
        }
       ],
       "conversionMethod": "pd.DataFrame",
       "ref": "b1281b50-19e2-4710-88bf-e2a83bd8cba2",
       "rows": [
        [
         "count",
         "125.0",
         "125.0",
         "125.0"
        ],
        [
         "mean",
         "53.60029808298593",
         "162.7647819822288",
         "2.0"
        ],
        [
         "std",
         "1.1221233126488261",
         "1.0180995968748803",
         "0.0"
        ],
        [
         "min",
         "50.43364367163626",
         "160.18216445040093",
         "2.0"
        ],
        [
         "25%",
         "53.07347272215209",
         "162.04384400542247",
         "2.0"
        ],
        [
         "50%",
         "53.64156383691933",
         "162.7699698637853",
         "2.0"
        ],
        [
         "75%",
         "54.30135936891195",
         "163.40549833609165",
         "2.0"
        ],
        [
         "max",
         "56.07878064846279",
         "165.37564557149568",
         "2.0"
        ]
       ],
       "shape": {
        "columns": 3,
        "rows": 8
       }
      },
      "text/html": [
       "<div>\n",
       "<style scoped>\n",
       "    .dataframe tbody tr th:only-of-type {\n",
       "        vertical-align: middle;\n",
       "    }\n",
       "\n",
       "    .dataframe tbody tr th {\n",
       "        vertical-align: top;\n",
       "    }\n",
       "\n",
       "    .dataframe thead th {\n",
       "        text-align: right;\n",
       "    }\n",
       "</style>\n",
       "<table border=\"1\" class=\"dataframe\">\n",
       "  <thead>\n",
       "    <tr style=\"text-align: right;\">\n",
       "      <th></th>\n",
       "      <th>Weight</th>\n",
       "      <th>Height</th>\n",
       "      <th>Cluster</th>\n",
       "    </tr>\n",
       "  </thead>\n",
       "  <tbody>\n",
       "    <tr>\n",
       "      <th>count</th>\n",
       "      <td>125.000000</td>\n",
       "      <td>125.000000</td>\n",
       "      <td>125.0</td>\n",
       "    </tr>\n",
       "    <tr>\n",
       "      <th>mean</th>\n",
       "      <td>53.600298</td>\n",
       "      <td>162.764782</td>\n",
       "      <td>2.0</td>\n",
       "    </tr>\n",
       "    <tr>\n",
       "      <th>std</th>\n",
       "      <td>1.122123</td>\n",
       "      <td>1.018100</td>\n",
       "      <td>0.0</td>\n",
       "    </tr>\n",
       "    <tr>\n",
       "      <th>min</th>\n",
       "      <td>50.433644</td>\n",
       "      <td>160.182164</td>\n",
       "      <td>2.0</td>\n",
       "    </tr>\n",
       "    <tr>\n",
       "      <th>25%</th>\n",
       "      <td>53.073473</td>\n",
       "      <td>162.043844</td>\n",
       "      <td>2.0</td>\n",
       "    </tr>\n",
       "    <tr>\n",
       "      <th>50%</th>\n",
       "      <td>53.641564</td>\n",
       "      <td>162.769970</td>\n",
       "      <td>2.0</td>\n",
       "    </tr>\n",
       "    <tr>\n",
       "      <th>75%</th>\n",
       "      <td>54.301359</td>\n",
       "      <td>163.405498</td>\n",
       "      <td>2.0</td>\n",
       "    </tr>\n",
       "    <tr>\n",
       "      <th>max</th>\n",
       "      <td>56.078781</td>\n",
       "      <td>165.375646</td>\n",
       "      <td>2.0</td>\n",
       "    </tr>\n",
       "  </tbody>\n",
       "</table>\n",
       "</div>"
      ],
      "text/plain": [
       "           Weight      Height  Cluster\n",
       "count  125.000000  125.000000    125.0\n",
       "mean    53.600298  162.764782      2.0\n",
       "std      1.122123    1.018100      0.0\n",
       "min     50.433644  160.182164      2.0\n",
       "25%     53.073473  162.043844      2.0\n",
       "50%     53.641564  162.769970      2.0\n",
       "75%     54.301359  163.405498      2.0\n",
       "max     56.078781  165.375646      2.0"
      ]
     },
     "execution_count": 89,
     "metadata": {},
     "output_type": "execute_result"
    }
   ],
   "source": [
    "cluster3.describe()"
   ]
  }
 ],
 "metadata": {
  "kernelspec": {
   "display_name": "Python 3",
   "language": "python",
   "name": "python3"
  },
  "language_info": {
   "codemirror_mode": {
    "name": "ipython",
    "version": 3
   },
   "file_extension": ".py",
   "mimetype": "text/x-python",
   "name": "python",
   "nbconvert_exporter": "python",
   "pygments_lexer": "ipython3",
   "version": "3.11.9"
  }
 },
 "nbformat": 4,
 "nbformat_minor": 2
}
